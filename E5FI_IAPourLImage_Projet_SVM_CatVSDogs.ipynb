{
 "cells": [
  {
   "cell_type": "code",
   "execution_count": 1,
   "id": "56dc19a6",
   "metadata": {},
   "outputs": [],
   "source": [
    "from sklearn.svm import SVC # Support Vector for Classification\n",
    "import os\n",
    "from PIL import Image,ImageFilter\n",
    "import random\n",
    "from sklearn.metrics import confusion_matrix, accuracy_score, plot_confusion_matrix\n",
    "import matplotlib.pyplot as plt"
   ]
  },
  {
   "cell_type": "code",
   "execution_count": 2,
   "id": "d3bd3db9",
   "metadata": {},
   "outputs": [],
   "source": [
    "base_directory = '.\\\\dataset'\n",
    "train_directory = os.path.join(base_directory, 'training_set')\n",
    "test_directory = os.path.join(base_directory, 'test_set')\n",
    "\n",
    "train_cats_directory = os.path.join(train_directory, 'cats')\n",
    "train_dogs_directory = os.path.join(train_directory, 'dogs')\n",
    "test_cats_directory = os.path.join(test_directory, 'cats')\n",
    "test_dogs_directory = os.path.join(test_directory, 'dogs')\n",
    "\n",
    "train_cat_names = os.listdir(train_cats_directory)\n",
    "train_dog_names = os.listdir(train_dogs_directory)\n",
    "\n",
    "test_cat_names = os.listdir(test_cats_directory)\n",
    "test_dog_names = os.listdir(test_dogs_directory)\n",
    "\n",
    "train_images = train_cat_names + train_dog_names\n",
    "test_images = test_cat_names + test_dog_names\n",
    "\n",
    "length_sample = int(len(train_images)-1)\n",
    "random.shuffle(train_images)\n",
    "random.shuffle(test_images)\n",
    "\n",
    "train_images = train_images[:length_sample]\n",
    "test_images = test_images[:length_sample]"
   ]
  },
  {
   "cell_type": "code",
   "execution_count": 3,
   "id": "2f4cd2b5",
   "metadata": {},
   "outputs": [],
   "source": [
    "Y_train = []\n",
    "for i in train_images:\n",
    "    if 'dog' in i:\n",
    "        Y_train.append(1)\n",
    "    else:\n",
    "        Y_train.append(0)\n",
    "        \n",
    "Y_test = []\n",
    "for i in test_images:\n",
    "    if 'dog' in i:\n",
    "        Y_test.append(1)\n",
    "    else:\n",
    "        Y_test.append(0)"
   ]
  },
  {
   "cell_type": "code",
   "execution_count": 4,
   "id": "8ad85511",
   "metadata": {},
   "outputs": [],
   "source": [
    "X_train = []\n",
    "for i in train_images:\n",
    "    if ('dog' in i):\n",
    "        filename = '.\\\\dataset\\\\training_set\\\\dogs\\\\'+i  \n",
    "    else :\n",
    "        filename = '.\\\\dataset\\\\training_set\\\\cats\\\\'+i \n",
    "    pil_im = Image.open(filename).convert('L')\n",
    "    \n",
    "    size=64,64\n",
    "    pil_im = pil_im.resize(size, Image.ANTIALIAS)\n",
    "    #pil_im =pil_im.filter(ImageFilter.FIND_EDGES)\n",
    "    pil_im=pil_im.filter(ImageFilter.GaussianBlur(255))\n",
    "    pix_val=pil_im.histogram() \n",
    "    \n",
    "    X_train.append(pix_val)"
   ]
  },
  {
   "cell_type": "code",
   "execution_count": 5,
   "id": "7d45f0ce",
   "metadata": {},
   "outputs": [],
   "source": [
    "X_test = []\n",
    "for i in test_images:\n",
    "    if ('dog' in i):\n",
    "        filename = '.\\\\dataset\\\\test_set\\\\dogs\\\\'+i  \n",
    "    else :\n",
    "        filename = '.\\\\dataset\\\\test_set\\\\cats\\\\'+i \n",
    "    pil_im = Image.open(filename).convert('L')\n",
    "    \n",
    "    size=64,64\n",
    "    pil_im = pil_im.resize(size, Image.ANTIALIAS)\n",
    "    #pil_im =pil_im.filter(ImageFilter.FIND_EDGES)\n",
    "    pil_im=pil_im.filter(ImageFilter.GaussianBlur(255))\n",
    "    pix_val=pil_im.histogram() \n",
    "    \n",
    "    X_test.append(pix_val)"
   ]
  },
  {
   "cell_type": "code",
   "execution_count": 6,
   "id": "6c418a50",
   "metadata": {},
   "outputs": [],
   "source": [
    "# Construction du modèle\n",
    "#classifier = SVC(kernel = 'linear', random_state = 0)\n",
    "classifier = SVC(kernel = 'rbf', random_state = 0)\n",
    "classifier.fit(X_train, Y_train)\n",
    "# Faire de nouvelles prédictions\n",
    "Y_pred = classifier.predict(X_test) "
   ]
  },
  {
   "cell_type": "code",
   "execution_count": 7,
   "id": "aa9f26f1",
   "metadata": {},
   "outputs": [
    {
     "name": "stdout",
     "output_type": "stream",
     "text": [
      "Score de précision : 0.514\n"
     ]
    },
    {
     "data": {
      "image/png": "[encoded data removed]",
      "text/plain": [
       "<Figure size 360x360 with 1 Axes>"
      ]
     },
     "metadata": {
      "needs_background": "light"
     },
     "output_type": "display_data"
    }
   ],
   "source": [
    "# Accuracy\n",
    "accuracy=accuracy_score(Y_test,Y_pred)\n",
    "print(\"Score de précision : \" + str(accuracy) )\n",
    "# Matrice de confusion\n",
    "\n",
    "cm = confusion_matrix(Y_test, Y_pred) \n",
    "\n",
    "fig, ax = plt.subplots(figsize=(5, 5))\n",
    "ax.matshow(cm, cmap=plt.cm.Blues, alpha=0.3)\n",
    "for i in range(cm.shape[0]):\n",
    "    for j in range(cm.shape[1]):\n",
    "        ax.text(x=j, y=i,s=cm[i, j], va='center', ha='center', size='xx-large')\n",
    " \n",
    "plt.xlabel('Predictions', fontsize=18)\n",
    "plt.ylabel('Actuals', fontsize=18)\n",
    "plt.title('Matrice de confusion', fontsize=18)\n",
    "plt.show()"
   ]
  },
  {
   "cell_type": "code",
   "execution_count": null,
   "id": "43771f6c",
   "metadata": {},
   "outputs": [],
   "source": []
  }
 ],
 "metadata": {
  "kernelspec": {
   "display_name": "Python 3",
   "language": "python",
   "name": "python3"
  },
  "language_info": {
   "codemirror_mode": {
    "name": "ipython",
    "version": 3
   },
   "file_extension": ".py",
   "mimetype": "text/x-python",
   "name": "python",
   "nbconvert_exporter": "python",
   "pygments_lexer": "ipython3",
   "version": "3.8.8"
  }
 },
 "nbformat": 4,
 "nbformat_minor": 5
}
