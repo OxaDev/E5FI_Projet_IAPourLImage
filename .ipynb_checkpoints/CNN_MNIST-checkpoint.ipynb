{
 "cells": [
  {
   "cell_type": "raw",
   "id": "2341d525",
   "metadata": {},
   "source": [
    "AMIRAT Yannis\n",
    "BAUCHER Quentin\n",
    "BISSONNIER Daphné\n",
    "JOUNIOT Constantin\n",
    "LAGELEE Cyril"
   ]
  },
  {
   "cell_type": "markdown",
   "id": "8275f09d",
   "metadata": {},
   "source": [
    "## Projet IA Pour L'image\n",
    "### Réseau neuronal convolutif sur la base \"MNIST\""
   ]
  },
  {
   "cell_type": "markdown",
   "id": "9a2f3ef8",
   "metadata": {},
   "source": [
    "##### Installations nécessaires\n",
    "pip install keras\n",
    "\n",
    "pip install tensorflow\n",
    "\n",
    "pip install numpy\n",
    "\n",
    "pip install matplotlib"
   ]
  },
  {
   "cell_type": "code",
   "execution_count": 1,
   "id": "7546189d",
   "metadata": {},
   "outputs": [],
   "source": [
    "from sklearn.model_selection import train_test_split\n",
    "from sklearn.svm import SVC, LinearSVC\n",
    "from sklearn.metrics import accuracy_score\n",
    "\n",
    "import keras \n",
    "from keras.datasets import mnist \n",
    "from keras.models import Sequential,Input,Model\n",
    "from keras.layers import Dense, Dropout, Flatten\n",
    "from keras.layers import Conv2D, MaxPooling2D\n",
    "from tensorflow.keras.layers import BatchNormalization\n",
    "from keras.layers.advanced_activations import LeakyReLU\n",
    "from tensorflow.keras.utils import to_categorical\n",
    "\n",
    "import numpy as np\n",
    "import matplotlib.pyplot as plt\n",
    "%matplotlib inline"
   ]
  },
  {
   "cell_type": "code",
   "execution_count": 2,
   "id": "4e405c7a",
   "metadata": {},
   "outputs": [
    {
     "name": "stdout",
     "output_type": "stream",
     "text": [
      "Training data shape :  (60000, 28, 28) (60000,)\n",
      "Testing data shape :  (10000, 28, 28) (10000,)\n"
     ]
    }
   ],
   "source": [
    "# the data, shuffled and split between train and test sets\n",
    "(X_train, Y_train), (X_test, Y_test) = mnist.load_data()\n",
    "\n",
    "print('Training data shape : ', X_train.shape, Y_train.shape)\n",
    "print('Testing data shape : ', X_test.shape, Y_test.shape)"
   ]
  },
  {
   "cell_type": "code",
   "execution_count": 3,
   "id": "8d96541a",
   "metadata": {},
   "outputs": [
    {
     "data": {
      "text/plain": [
       "Text(0.5, 1.0, 'Ground Truth : 7')"
      ]
     },
     "execution_count": 3,
     "metadata": {},
     "output_type": "execute_result"
    },
    {
     "data": {
      "image/png": "[encoded data removed]",
      "text/plain": [
       "<Figure size 360x360 with 2 Axes>"
      ]
     },
     "metadata": {
      "needs_background": "light"
     },
     "output_type": "display_data"
    }
   ],
   "source": [
    "plt.figure(figsize=[5,5])\n",
    "\n",
    "# Display the first image in training data\n",
    "plt.subplot(121)\n",
    "plt.imshow(X_train[0,:,:], cmap='gray')\n",
    "plt.title(\"Ground Truth : {}\".format(Y_train[0]))\n",
    "\n",
    "# Display the first image in testing data\n",
    "plt.subplot(122)\n",
    "plt.imshow(X_test[0,:,:], cmap='gray')\n",
    "plt.title(\"Ground Truth : {}\".format(Y_test[0]))"
   ]
  },
  {
   "cell_type": "code",
   "execution_count": 4,
   "id": "92cbab6d",
   "metadata": {},
   "outputs": [
    {
     "name": "stdout",
     "output_type": "stream",
     "text": [
      "Original label: 5\n",
      "After conversion to one-hot: [0. 0. 0. 0. 0. 1. 0. 0. 0. 0.]\n"
     ]
    }
   ],
   "source": [
    "X_train = X_train.reshape(-1, 28,28, 1)\n",
    "X_test = X_test.reshape(-1, 28,28, 1)\n",
    "\n",
    "X_train = X_train.astype('float32')\n",
    "X_test = X_test.astype('float32')\n",
    "X_train = X_train / 255.\n",
    "X_test = X_test / 255.\n",
    "\n",
    "train_Y_one_hot = to_categorical(Y_train)\n",
    "test_Y_one_hot = to_categorical(Y_test)\n",
    "\n",
    "# Display the change for category label using one-hot encoding\n",
    "print('Original label:', Y_train[0])\n",
    "print('After conversion to one-hot:', train_Y_one_hot[0])\n",
    "\n",
    "X_train,valid_X,train_label,valid_label = train_test_split(X_train, train_Y_one_hot, test_size=0.2, random_state=13)"
   ]
  },
  {
   "cell_type": "markdown",
   "id": "556f1b83",
   "metadata": {},
   "source": [
    "Dans notre séquence de convolution, nous faisons appel à un MaxPooling2D : le MaxPooling2D est aussi connu sous le nom de sous-echantillonnage. Nous allons passer nos matrices pixels avec une matrice d'une taille que nous définissons. Dans notre cas la \"pool_size\" indique que l'on va sous-echantillonner nos matrice avec une matrice de taille 2x2. Grâce à ce sous-echantillonnage, nous allons détecter si nous repérons des \"sous-motifs\" connu dans la matrice qui parcourt notre image."
   ]
  },
  {
   "cell_type": "code",
   "execution_count": 5,
   "id": "77754771",
   "metadata": {},
   "outputs": [
    {
     "name": "stdout",
     "output_type": "stream",
     "text": [
      "Epoch 1/20\n",
      "750/750 [==============================] - 32s 42ms/step - loss: 0.1619 - accuracy: 0.9477 - val_loss: 0.0579 - val_accuracy: 0.9821\n",
      "Epoch 2/20\n",
      "750/750 [==============================] - 33s 44ms/step - loss: 0.0430 - accuracy: 0.9864 - val_loss: 0.0583 - val_accuracy: 0.9811\n",
      "Epoch 3/20\n",
      "750/750 [==============================] - 32s 43ms/step - loss: 0.0292 - accuracy: 0.9911 - val_loss: 0.0354 - val_accuracy: 0.9883\n",
      "Epoch 4/20\n",
      "750/750 [==============================] - 34s 45ms/step - loss: 0.0224 - accuracy: 0.9933 - val_loss: 0.0433 - val_accuracy: 0.9878\n",
      "Epoch 5/20\n",
      "750/750 [==============================] - 33s 44ms/step - loss: 0.0177 - accuracy: 0.9948 - val_loss: 0.0347 - val_accuracy: 0.9908\n",
      "Epoch 6/20\n",
      "750/750 [==============================] - 33s 44ms/step - loss: 0.0155 - accuracy: 0.9949 - val_loss: 0.0347 - val_accuracy: 0.9906\n",
      "Epoch 7/20\n",
      "750/750 [==============================] - 30s 40ms/step - loss: 0.0125 - accuracy: 0.9960 - val_loss: 0.0397 - val_accuracy: 0.9900\n",
      "Epoch 8/20\n",
      "750/750 [==============================] - 30s 40ms/step - loss: 0.0109 - accuracy: 0.9967 - val_loss: 0.0381 - val_accuracy: 0.9908\n",
      "Epoch 9/20\n",
      "750/750 [==============================] - 30s 40ms/step - loss: 0.0115 - accuracy: 0.9964 - val_loss: 0.0408 - val_accuracy: 0.9909\n",
      "Epoch 10/20\n",
      "750/750 [==============================] - 30s 41ms/step - loss: 0.0103 - accuracy: 0.9967 - val_loss: 0.0488 - val_accuracy: 0.9891\n",
      "Epoch 11/20\n",
      "750/750 [==============================] - 30s 40ms/step - loss: 0.0099 - accuracy: 0.9969 - val_loss: 0.0502 - val_accuracy: 0.9896\n",
      "Epoch 12/20\n",
      "750/750 [==============================] - 30s 40ms/step - loss: 0.0067 - accuracy: 0.9981 - val_loss: 0.0502 - val_accuracy: 0.9913\n",
      "Epoch 13/20\n",
      "750/750 [==============================] - 30s 40ms/step - loss: 0.0093 - accuracy: 0.9973 - val_loss: 0.0536 - val_accuracy: 0.9899\n",
      "Epoch 14/20\n",
      "750/750 [==============================] - 30s 40ms/step - loss: 0.0069 - accuracy: 0.9977 - val_loss: 0.0549 - val_accuracy: 0.9893\n",
      "Epoch 15/20\n",
      "750/750 [==============================] - 30s 40ms/step - loss: 0.0069 - accuracy: 0.9980 - val_loss: 0.0416 - val_accuracy: 0.9899\n",
      "Epoch 16/20\n",
      "750/750 [==============================] - 30s 40ms/step - loss: 0.0032 - accuracy: 0.9989 - val_loss: 0.0600 - val_accuracy: 0.9892\n",
      "Epoch 17/20\n",
      "750/750 [==============================] - 31s 42ms/step - loss: 0.0111 - accuracy: 0.9967 - val_loss: 0.0398 - val_accuracy: 0.9919\n",
      "Epoch 18/20\n",
      "750/750 [==============================] - 33s 43ms/step - loss: 0.0026 - accuracy: 0.9990 - val_loss: 0.0897 - val_accuracy: 0.9867\n",
      "Epoch 19/20\n",
      "750/750 [==============================] - 33s 44ms/step - loss: 0.0081 - accuracy: 0.9980 - val_loss: 0.0581 - val_accuracy: 0.9885\n",
      "Epoch 20/20\n",
      "750/750 [==============================] - 34s 45ms/step - loss: 0.0075 - accuracy: 0.9977 - val_loss: 0.0519 - val_accuracy: 0.9908\n"
     ]
    }
   ],
   "source": [
    "batch_size = 64\n",
    "epochs = 20\n",
    "num_classes = 10\n",
    "\n",
    "# Initialising the CNN\n",
    "classifier = Sequential()\n",
    "classifier.add(Conv2D(32, kernel_size=(3, 3),activation='linear',input_shape=(28,28,1),padding='same'))\n",
    "classifier.add(LeakyReLU(alpha=0.1))\n",
    "classifier.add(MaxPooling2D((2, 2),padding='same'))\n",
    "classifier.add(Conv2D(64, (3, 3), activation='linear',padding='same'))\n",
    "classifier.add(LeakyReLU(alpha=0.1))\n",
    "classifier.add(MaxPooling2D(pool_size=(2, 2),padding='same'))\n",
    "classifier.add(Conv2D(128, (3, 3), activation='linear',padding='same'))\n",
    "classifier.add(LeakyReLU(alpha=0.1))                  \n",
    "classifier.add(MaxPooling2D(pool_size=(2, 2),padding='same'))\n",
    "classifier.add(Conv2D(256, (3, 3), activation='linear',padding='same'))\n",
    "classifier.add(LeakyReLU(alpha=0.1))                  \n",
    "classifier.add(MaxPooling2D(pool_size=(2, 2),padding='same'))\n",
    "classifier.add(Flatten())\n",
    "classifier.add(Dense(256, activation='linear'))\n",
    "classifier.add(LeakyReLU(alpha=0.1))                  \n",
    "classifier.add(Dense(num_classes, activation='softmax'))\n",
    "\n",
    "classifier.compile(optimizer = 'adam', loss = keras.losses.categorical_crossentropy, metrics = ['accuracy'])\n",
    "history_classifier = classifier.fit(X_train, train_label, batch_size=batch_size,epochs=epochs,verbose=1,validation_data=(valid_X, valid_label)) "
   ]
  },
  {
   "cell_type": "code",
   "execution_count": 6,
   "id": "21f706d9",
   "metadata": {},
   "outputs": [
    {
     "name": "stdout",
     "output_type": "stream",
     "text": [
      "Test loss: 0.04821343347430229\n",
      "Test accuracy: 0.991599977016449\n"
     ]
    }
   ],
   "source": [
    "Eval_test = classifier.evaluate(X_test, test_Y_one_hot, verbose=0)\n",
    "print('Test loss:', Eval_test [0])\n",
    "print('Test accuracy:', Eval_test [1])"
   ]
  },
  {
   "cell_type": "code",
   "execution_count": 7,
   "id": "4a350822",
   "metadata": {},
   "outputs": [
    {
     "name": "stdout",
     "output_type": "stream",
     "text": [
      "dict_keys(['loss', 'accuracy', 'val_loss', 'val_accuracy'])\n"
     ]
    },
    {
     "data": {
      "image/png": "[encoded data removed]",
      "text/plain": [
       "<Figure size 432x288 with 1 Axes>"
      ]
     },
     "metadata": {
      "needs_background": "light"
     },
     "output_type": "display_data"
    },
    {
     "data": {
      "image/png": "[encoded data removed]",
      "text/plain": [
       "<Figure size 432x288 with 1 Axes>"
      ]
     },
     "metadata": {
      "needs_background": "light"
     },
     "output_type": "display_data"
    }
   ],
   "source": [
    "print(history_classifier.history.keys())\n",
    "accuracy = history_classifier.history['accuracy']\n",
    "val_accuracy = history_classifier.history['val_accuracy']\n",
    "loss = history_classifier.history['loss']\n",
    "val_loss = history_classifier.history['val_loss']\n",
    "epochs = range(len(accuracy))\n",
    "plt.plot(epochs, accuracy, 'bo', label='Training accuracy')\n",
    "plt.plot(epochs, val_accuracy, 'b', label='Validation accuracy')\n",
    "plt.title('Training and validation accuracy')\n",
    "plt.legend()\n",
    "plt.figure()\n",
    "plt.plot(epochs, loss, 'bo', label='Training loss')\n",
    "plt.plot(epochs, val_loss, 'b', label='Validation loss')\n",
    "plt.title('Training and validation loss')\n",
    "plt.legend()\n",
    "plt.show()"
   ]
  },
  {
   "cell_type": "code",
   "execution_count": null,
   "id": "34cc7ad7",
   "metadata": {},
   "outputs": [],
   "source": []
  }
 ],
 "metadata": {
  "kernelspec": {
   "display_name": "Python 3",
   "language": "python",
   "name": "python3"
  },
  "language_info": {
   "codemirror_mode": {
    "name": "ipython",
    "version": 3
   },
   "file_extension": ".py",
   "mimetype": "text/x-python",
   "name": "python",
   "nbconvert_exporter": "python",
   "pygments_lexer": "ipython3",
   "version": "3.8.8"
  }
 },
 "nbformat": 4,
 "nbformat_minor": 5
}
