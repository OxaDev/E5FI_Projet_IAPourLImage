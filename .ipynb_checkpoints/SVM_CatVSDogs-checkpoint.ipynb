{
 "cells": [
  {
   "cell_type": "raw",
   "id": "5817c321",
   "metadata": {},
   "source": [
    "AMIRAT Yannis\n",
    "BAUCHER Quentin\n",
    "BISSONNIER Daphné\n",
    "JOUNIOT Constantin\n",
    "LAGELEE Cyril"
   ]
  },
  {
   "cell_type": "markdown",
   "id": "d3cd8de0",
   "metadata": {},
   "source": [
    "## Projet IA Pour L'image\n",
    "### SVM sur la base \"Cats vs Dogs\""
   ]
  },
  {
   "cell_type": "markdown",
   "id": "cb108940",
   "metadata": {},
   "source": [
    "##### Installations nécessaires\n",
    "pip install -U scikit-learn\n",
    "\n",
    "pip install PIL\n",
    "\n",
    "pip install matplotlib"
   ]
  },
  {
   "cell_type": "markdown",
   "id": "d1264c12",
   "metadata": {},
   "source": [
    "#### Architecture du projet"
   ]
  },
  {
   "cell_type": "raw",
   "id": "a017b998",
   "metadata": {},
   "source": [
    "root \\\n",
    "    SVM_CatVSDogs.ipynb\n",
    "    dataset_CatVsDogs \\\n",
    "        training_set \\\n",
    "            cats \\\n",
    "                cat.1.jpg\n",
    "                ...\n",
    "                cat.x.jpg\n",
    "            \n",
    "            dogs \\\n",
    "                dog.1.jpg\n",
    "                ...\n",
    "                dog.x.jpg\n",
    "            \n",
    "        test_set \\\n",
    "            cats \\\n",
    "                cat.1.jpg\n",
    "                ...\n",
    "                cat.x.jpg\n",
    "            \n",
    "            dogs \\\n",
    "                dog.1.jpg\n",
    "                ...\n",
    "                dog.x.jpg"
   ]
  },
  {
   "cell_type": "code",
   "execution_count": 1,
   "id": "80409a57",
   "metadata": {},
   "outputs": [],
   "source": [
    "from sklearn.svm import SVC # Support Vector for Classification\n",
    "from sklearn.metrics import confusion_matrix, accuracy_score, plot_confusion_matrix\n",
    "\n",
    "import os\n",
    "import random\n",
    "\n",
    "from PIL import Image,ImageFilter\n",
    "\n",
    "import matplotlib.pyplot as plt"
   ]
  },
  {
   "cell_type": "code",
   "execution_count": 2,
   "id": "c7832f9e",
   "metadata": {},
   "outputs": [],
   "source": [
    "base_directory = '.\\\\dataset_CatVsDogs'\n",
    "train_directory = os.path.join(base_directory, 'training_set')\n",
    "test_directory = os.path.join(base_directory, 'test_set')\n",
    "\n",
    "train_cats_directory = os.path.join(train_directory, 'cats')\n",
    "train_dogs_directory = os.path.join(train_directory, 'dogs')\n",
    "test_cats_directory = os.path.join(test_directory, 'cats')\n",
    "test_dogs_directory = os.path.join(test_directory, 'dogs')\n",
    "\n",
    "train_cat_names = os.listdir(train_cats_directory)\n",
    "train_dog_names = os.listdir(train_dogs_directory)\n",
    "\n",
    "test_cat_names = os.listdir(test_cats_directory)\n",
    "test_dog_names = os.listdir(test_dogs_directory)\n",
    "\n",
    "train_images = train_cat_names + train_dog_names\n",
    "test_images = test_cat_names + test_dog_names\n",
    "\n",
    "length_sample = int(len(train_images)-1)\n",
    "random.shuffle(train_images)\n",
    "random.shuffle(test_images)\n",
    "\n",
    "train_images = train_images[:length_sample]\n",
    "test_images = test_images[:length_sample]"
   ]
  },
  {
   "cell_type": "code",
   "execution_count": 3,
   "id": "55b9278b",
   "metadata": {},
   "outputs": [],
   "source": [
    "Y_train = []\n",
    "for i in train_images:\n",
    "    if 'dog' in i:\n",
    "        Y_train.append(1)\n",
    "    else:\n",
    "        Y_train.append(0)\n",
    "        \n",
    "Y_test = []\n",
    "for i in test_images:\n",
    "    if 'dog' in i:\n",
    "        Y_test.append(1)\n",
    "    else:\n",
    "        Y_test.append(0)"
   ]
  },
  {
   "cell_type": "code",
   "execution_count": 4,
   "id": "7d53f873",
   "metadata": {},
   "outputs": [],
   "source": [
    "X_train = []\n",
    "for i in train_images:\n",
    "    if ('dog' in i):\n",
    "        filename = '.\\\\dataset_CatVsDogs\\\\training_set\\\\dogs\\\\'+i  \n",
    "    else :\n",
    "        filename = '.\\\\dataset_CatVsDogs\\\\training_set\\\\cats\\\\'+i \n",
    "    pil_im = Image.open(filename).convert('L')\n",
    "    \n",
    "    size=64,64\n",
    "    pil_im = pil_im.resize(size, Image.ANTIALIAS)\n",
    "    #pil_im =pil_im.filter(ImageFilter.FIND_EDGES)\n",
    "    pil_im=pil_im.filter(ImageFilter.GaussianBlur(255))\n",
    "    pix_val=pil_im.histogram() \n",
    "    \n",
    "    X_train.append(pix_val)"
   ]
  },
  {
   "cell_type": "code",
   "execution_count": 5,
   "id": "2454d813",
   "metadata": {},
   "outputs": [],
   "source": [
    "X_test = []\n",
    "for i in test_images:\n",
    "    if ('dog' in i):\n",
    "        filename = '.\\\\dataset_CatVsDogs\\\\test_set\\\\dogs\\\\'+i  \n",
    "    else :\n",
    "        filename = '.\\\\dataset_CatVsDogs\\\\test_set\\\\cats\\\\'+i \n",
    "    pil_im = Image.open(filename).convert('L')\n",
    "    \n",
    "    size=64,64\n",
    "    pil_im = pil_im.resize(size, Image.ANTIALIAS)\n",
    "    #pil_im =pil_im.filter(ImageFilter.FIND_EDGES)\n",
    "    pil_im=pil_im.filter(ImageFilter.GaussianBlur(255))\n",
    "    pix_val=pil_im.histogram() \n",
    "    \n",
    "    X_test.append(pix_val)"
   ]
  },
  {
   "cell_type": "code",
   "execution_count": 6,
   "id": "9637cc6b",
   "metadata": {},
   "outputs": [],
   "source": [
    "# Construction du modèle\n",
    "#classifier = SVC(kernel = 'linear', random_state = 0)\n",
    "classifier = SVC(kernel = 'rbf', random_state = 0)\n",
    "classifier.fit(X_train, Y_train)\n",
    "# Faire de nouvelles prédictions\n",
    "Y_pred = classifier.predict(X_test) "
   ]
  },
  {
   "cell_type": "code",
   "execution_count": 7,
   "id": "388f3b08",
   "metadata": {},
   "outputs": [
    {
     "name": "stdout",
     "output_type": "stream",
     "text": [
      "Score de précision : 0.5145\n"
     ]
    },
    {
     "data": {
      "image/png": "[encoded data removed]",
      "text/plain": [
       "<Figure size 360x360 with 1 Axes>"
      ]
     },
     "metadata": {
      "needs_background": "light"
     },
     "output_type": "display_data"
    }
   ],
   "source": [
    "# Accuracy\n",
    "accuracy=accuracy_score(Y_test,Y_pred)\n",
    "print(\"Score de précision : \" + str(accuracy) )\n",
    "# Matrice de confusion\n",
    "\n",
    "cm = confusion_matrix(Y_test, Y_pred) \n",
    "\n",
    "fig, ax = plt.subplots(figsize=(5, 5))\n",
    "ax.matshow(cm, cmap=plt.cm.Blues, alpha=0.3)\n",
    "for i in range(cm.shape[0]):\n",
    "    for j in range(cm.shape[1]):\n",
    "        ax.text(x=j, y=i,s=cm[i, j], va='center', ha='center', size='xx-large')\n",
    " \n",
    "plt.xlabel('Predictions', fontsize=18)\n",
    "plt.ylabel('Actuals', fontsize=18)\n",
    "plt.title('Matrice de confusion', fontsize=18)\n",
    "plt.show()"
   ]
  },
  {
   "cell_type": "code",
   "execution_count": null,
   "id": "d8421dcf",
   "metadata": {},
   "outputs": [],
   "source": []
  }
 ],
 "metadata": {
  "kernelspec": {
   "display_name": "Python 3",
   "language": "python",
   "name": "python3"
  },
  "language_info": {
   "codemirror_mode": {
    "name": "ipython",
    "version": 3
   },
   "file_extension": ".py",
   "mimetype": "text/x-python",
   "name": "python",
   "nbconvert_exporter": "python",
   "pygments_lexer": "ipython3",
   "version": "3.8.8"
  }
 },
 "nbformat": 4,
 "nbformat_minor": 5
}
